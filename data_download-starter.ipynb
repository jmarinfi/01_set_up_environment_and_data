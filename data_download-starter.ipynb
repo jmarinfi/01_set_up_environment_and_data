{
 "cells": [
  {
   "cell_type": "markdown",
   "metadata": {},
   "source": [
    "# Store US Stock Prices in HDF5 Format"
   ]
  },
  {
   "cell_type": "markdown",
   "metadata": {},
   "source": [
    "## Imports"
   ]
  },
  {
   "cell_type": "code",
   "execution_count": 1,
   "metadata": {},
   "outputs": [],
   "source": [
    "import pandas as pd\n",
    "import matplotlib.pyplot as plt"
   ]
  },
  {
   "cell_type": "markdown",
   "metadata": {},
   "source": [
    "## Load source data"
   ]
  },
  {
   "cell_type": "code",
   "execution_count": 9,
   "metadata": {},
   "outputs": [],
   "source": [
    "# Load the data from de CSV file\n",
    "data = pd.read_csv('WIKI_PRICES_212b326a081eacca455e13140d7bb9db.csv')"
   ]
  },
  {
   "cell_type": "markdown",
   "metadata": {},
   "source": [
    "## Apply required transformations"
   ]
  },
  {
   "cell_type": "code",
   "execution_count": 10,
   "metadata": {},
   "outputs": [
    {
     "data": {
      "text/html": [
       "<div>\n",
       "<style scoped>\n",
       "    .dataframe tbody tr th:only-of-type {\n",
       "        vertical-align: middle;\n",
       "    }\n",
       "\n",
       "    .dataframe tbody tr th {\n",
       "        vertical-align: top;\n",
       "    }\n",
       "\n",
       "    .dataframe thead th {\n",
       "        text-align: right;\n",
       "    }\n",
       "</style>\n",
       "<table border=\"1\" class=\"dataframe\">\n",
       "  <thead>\n",
       "    <tr style=\"text-align: right;\">\n",
       "      <th></th>\n",
       "      <th></th>\n",
       "      <th>open</th>\n",
       "      <th>low</th>\n",
       "      <th>high</th>\n",
       "      <th>close</th>\n",
       "      <th>volume</th>\n",
       "    </tr>\n",
       "    <tr>\n",
       "      <th>ticker</th>\n",
       "      <th>date</th>\n",
       "      <th></th>\n",
       "      <th></th>\n",
       "      <th></th>\n",
       "      <th></th>\n",
       "      <th></th>\n",
       "    </tr>\n",
       "  </thead>\n",
       "  <tbody>\n",
       "    <tr>\n",
       "      <th rowspan=\"5\" valign=\"top\">A</th>\n",
       "      <th>2000-01-03</th>\n",
       "      <td>53.726454</td>\n",
       "      <td>45.969377</td>\n",
       "      <td>53.856080</td>\n",
       "      <td>49.121329</td>\n",
       "      <td>3343600.0</td>\n",
       "    </tr>\n",
       "    <tr>\n",
       "      <th>2000-01-04</th>\n",
       "      <td>46.481058</td>\n",
       "      <td>44.175084</td>\n",
       "      <td>46.992738</td>\n",
       "      <td>45.369006</td>\n",
       "      <td>3408500.0</td>\n",
       "    </tr>\n",
       "    <tr>\n",
       "      <th>2000-01-05</th>\n",
       "      <td>45.198445</td>\n",
       "      <td>41.828176</td>\n",
       "      <td>45.239380</td>\n",
       "      <td>41.998737</td>\n",
       "      <td>4119200.0</td>\n",
       "    </tr>\n",
       "    <tr>\n",
       "      <th>2000-01-06</th>\n",
       "      <td>42.046493</td>\n",
       "      <td>39.658651</td>\n",
       "      <td>42.298923</td>\n",
       "      <td>40.934441</td>\n",
       "      <td>1812900.0</td>\n",
       "    </tr>\n",
       "    <tr>\n",
       "      <th>2000-01-07</th>\n",
       "      <td>40.293135</td>\n",
       "      <td>40.252200</td>\n",
       "      <td>44.986951</td>\n",
       "      <td>44.345645</td>\n",
       "      <td>2016900.0</td>\n",
       "    </tr>\n",
       "    <tr>\n",
       "      <th>...</th>\n",
       "      <th>...</th>\n",
       "      <td>...</td>\n",
       "      <td>...</td>\n",
       "      <td>...</td>\n",
       "      <td>...</td>\n",
       "      <td>...</td>\n",
       "    </tr>\n",
       "    <tr>\n",
       "      <th rowspan=\"5\" valign=\"top\">ZUMZ</th>\n",
       "      <th>2018-03-21</th>\n",
       "      <td>23.800000</td>\n",
       "      <td>23.605800</td>\n",
       "      <td>24.600000</td>\n",
       "      <td>23.950000</td>\n",
       "      <td>354092.0</td>\n",
       "    </tr>\n",
       "    <tr>\n",
       "      <th>2018-03-22</th>\n",
       "      <td>23.900000</td>\n",
       "      <td>23.300000</td>\n",
       "      <td>24.350000</td>\n",
       "      <td>23.350000</td>\n",
       "      <td>269607.0</td>\n",
       "    </tr>\n",
       "    <tr>\n",
       "      <th>2018-03-23</th>\n",
       "      <td>23.550000</td>\n",
       "      <td>23.450000</td>\n",
       "      <td>24.200000</td>\n",
       "      <td>23.550000</td>\n",
       "      <td>301584.0</td>\n",
       "    </tr>\n",
       "    <tr>\n",
       "      <th>2018-03-26</th>\n",
       "      <td>23.750000</td>\n",
       "      <td>23.700000</td>\n",
       "      <td>24.800000</td>\n",
       "      <td>24.650000</td>\n",
       "      <td>375320.0</td>\n",
       "    </tr>\n",
       "    <tr>\n",
       "      <th>2018-03-27</th>\n",
       "      <td>24.650000</td>\n",
       "      <td>23.350000</td>\n",
       "      <td>24.650000</td>\n",
       "      <td>23.600000</td>\n",
       "      <td>403884.0</td>\n",
       "    </tr>\n",
       "  </tbody>\n",
       "</table>\n",
       "<p>11343920 rows × 5 columns</p>\n",
       "</div>"
      ],
      "text/plain": [
       "                        open        low       high      close     volume\n",
       "ticker date                                                             \n",
       "A      2000-01-03  53.726454  45.969377  53.856080  49.121329  3343600.0\n",
       "       2000-01-04  46.481058  44.175084  46.992738  45.369006  3408500.0\n",
       "       2000-01-05  45.198445  41.828176  45.239380  41.998737  4119200.0\n",
       "       2000-01-06  42.046493  39.658651  42.298923  40.934441  1812900.0\n",
       "       2000-01-07  40.293135  40.252200  44.986951  44.345645  2016900.0\n",
       "...                      ...        ...        ...        ...        ...\n",
       "ZUMZ   2018-03-21  23.800000  23.605800  24.600000  23.950000   354092.0\n",
       "       2018-03-22  23.900000  23.300000  24.350000  23.350000   269607.0\n",
       "       2018-03-23  23.550000  23.450000  24.200000  23.550000   301584.0\n",
       "       2018-03-26  23.750000  23.700000  24.800000  24.650000   375320.0\n",
       "       2018-03-27  24.650000  23.350000  24.650000  23.600000   403884.0\n",
       "\n",
       "[11343920 rows x 5 columns]"
      ]
     },
     "execution_count": 10,
     "metadata": {},
     "output_type": "execute_result"
    }
   ],
   "source": [
    "# Convert the date column to datetime format\n",
    "data['date'] = pd.to_datetime(data['date'])\n",
    "\n",
    "# Select stock price data only from the year 2000 onwards\n",
    "data = data[data['date'].dt.year >= 2000]\n",
    "\n",
    "# Set 'ticker' and 'date' as index\n",
    "data.set_index(['ticker', 'date'], inplace=True)\n",
    "\n",
    "# Keep only the adjusted open, low, high, close, and volume (OHLCV) prices, \n",
    "# and rename by removing the 'adj_' prefix\n",
    "data = data[['adj_open', 'adj_low', 'adj_high', 'adj_close', 'adj_volume']]\n",
    "data.columns = ['open', 'low', 'high', 'close', 'volume']\n",
    "\n",
    "data"
   ]
  },
  {
   "cell_type": "markdown",
   "metadata": {},
   "source": [
    "## Plot data"
   ]
  },
  {
   "cell_type": "code",
   "execution_count": 12,
   "metadata": {},
   "outputs": [
    {
     "data": {
      "image/png": "[encoded data removed]",
      "text/plain": [
       "<Figure size 1000x600 with 1 Axes>"
      ]
     },
     "metadata": {},
     "output_type": "display_data"
    }
   ],
   "source": [
    "# Select a specific ticker to plot\n",
    "ticker = 'AAPL'\n",
    "ticker_data = data.loc[ticker]\n",
    "\n",
    "# Plot the adjusted close prices\n",
    "plt.figure(figsize=(10, 6))\n",
    "plt.plot(ticker_data.index, ticker_data['close'])\n",
    "plt.title(f'Adjusted Close Prices for {ticker}')\n",
    "plt.xlabel('Date')\n",
    "plt.ylabel('Adjusted Close Price')\n",
    "plt.grid(True)\n",
    "plt.show()\n"
   ]
  },
  {
   "cell_type": "markdown",
   "metadata": {},
   "source": [
    "## Store in HDF5 format"
   ]
  },
  {
   "cell_type": "code",
   "execution_count": 13,
   "metadata": {},
   "outputs": [],
   "source": [
    "# Save the data in HDF5 format\n",
    "hdf5_file_path = 'us_stocks.h5'\n",
    "data.to_hdf(hdf5_file_path, key='us_stocks', mode='w')"
   ]
  }
 ],
 "metadata": {
  "kernelspec": {
   "display_name": "Python 3 (ipykernel)",
   "language": "python",
   "name": "python3"
  },
  "language_info": {
   "codemirror_mode": {
    "name": "ipython",
    "version": 3
   },
   "file_extension": ".py",
   "mimetype": "text/x-python",
   "name": "python",
   "nbconvert_exporter": "python",
   "pygments_lexer": "ipython3",
   "version": "3.10.14"
  },
  "toc": {
   "base_numbering": 1,
   "nav_menu": {},
   "number_sections": true,
   "sideBar": true,
   "skip_h1_title": false,
   "title_cell": "Table of Contents",
   "title_sidebar": "Contents",
   "toc_cell": false,
   "toc_position": {},
   "toc_section_display": true,
   "toc_window_display": false
  }
 },
 "nbformat": 4,
 "nbformat_minor": 4
}
